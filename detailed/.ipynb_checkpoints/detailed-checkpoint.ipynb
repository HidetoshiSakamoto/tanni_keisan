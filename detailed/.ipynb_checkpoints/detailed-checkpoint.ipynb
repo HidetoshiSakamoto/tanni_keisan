{
 "cells": [
  {
   "cell_type": "code",
   "execution_count": 1,
   "metadata": {},
   "outputs": [],
   "source": [
    "import re\n",
    "import pandas as pd\n",
    "from pandas import MultiIndex\n",
    "from bs4 import BeautifulSoup"
   ]
  },
  {
   "cell_type": "code",
   "execution_count": 2,
   "metadata": {},
   "outputs": [
    {
     "name": "stdout",
     "output_type": "stream",
     "text": [
      "<html lang=\"ja\"><head> <!--=====================================================================   Meta Tags ======================================================================-->  <meta http-equiv=\"Content-Type\" content=\"text/html; charset=Shift_JIS\"> <meta http-equiv=\"X-UA-Compatible\" content=\"IE=edge\"> <meta content=\"慶應義塾, 学業成績表, 成績表閲覧サイト, Grade Reports\" name=\"keywords\"> <meta content=\"成績表閲覧サイト / Report of Infectious Disease\" name=\"description\"> <title> 成績表システム&nbsp; &nbsp; </title> <meta name=\"viewport\" content=\"width=device-width, initial-scale=1.0, maximum-scale=1.0, user-scalable=no\"> <!--=====================================================================   js ======================================================================-->  <script src=\"js/jquery.js\" type=\"text/javascript\"></script> <script src=\"js/rcs_pc.js\" type=\"text/javascript\"></script> <!--=====================================================================   css ======================================================================-->  <link href=\"https://fonts.googleapis.com/css?family=Noto+Serif+JP\" rel=\"stylesheet\"> <link rel=\"stylesheet\" type=\"text/css\" href=\"css/rcs2.css?ver=014\"> </head> <body class=\"PrintDisp\">  <form method=\"post\" action=\"./reportCard\" data-ajax=\"false\"> <h1>2019年度 春学期 慶應義塾大学 学業成績表                                                             </h1>  経済学部<br>  経済学科<br>  3　年<br>  <div style=\"text-align:right;\" '=\"\">   学籍番号：<a dir=\"ltr\" href=\"tel:21708400\" x-apple-data-detectors=\"true\" x-apple-data-detectors-type=\"telephone\" x-apple-data-detectors-result=\"0\">21708400</a><br>   氏名：熊谷謙  </div> <ol><li>卒業・進級に必要な科目・分野・単位、成績評価体系、およびGPAの算出方法は、履修案内を参照してください。</li><li>評語欄のＳ・Ａ・Ｂ・Ｃ・Ｐは合格、Ｄ・Ｆは不合格、Ｇは認定、？はまだ評語が確定していないもの、－は今回評語がつかないものを表します。</li><li>担当者の氏名は６文字まで表示されています。</li><li>Webでは表示できない特殊文字は代替文字を使用しています。</li></ol> <!--=====================================================================   Judge ======================================================================-->   <table class=\"User\">    <tbody>     <tr>      <th nowrap=\"\">&nbsp;<br></th>      <td><br>&nbsp;<br><br></td>     </tr>    </tbody>   </table> <!--=====================================================================   GPA ======================================================================-->   <table class=\"User GPA\">    <tbody>     <tr>      <td>GPA</td>      <td></td>     </tr>     <tr>      <td>学期：2.10</td>      <td>累積：1.92</td>     </tr>    </tbody>   </table> <!--=====================================================================   Main Contents ======================================================================-->   <table class=\"main\">    <thead>   <tr><th>科目名称</th><th>担当者</th><th>評語</th><th>単位</th><th>追試再試</th><th>年度</th><th>開講学期</th><th>取得学年</th></tr>    </thead>    <tbody> <tr class=\"field\"><td colspan=\"6\">分野：10-21-01 総合教育科目 選択必修（１系） １系　自然・数理系</td><td colspan=\"2\">取得合計 12.0単位</td></tr><tr class=\"subject\"><td>科学と環境２</td><td>豊田　健介</td><td>Ｂ</td><td>2.0</td><td>&nbsp;</td><td>2017</td><td>秋</td><td>1年</td></tr><tr class=\"subject\"><td>心理学１</td><td>中野　泰志</td><td>Ｓ</td><td>2.0</td><td>&nbsp;</td><td>2017</td><td>春</td><td>1年</td></tr><tr class=\"subject\"><td>心理学２</td><td>中野　泰志</td><td>Ａ</td><td>2.0</td><td>&nbsp;</td><td>2017</td><td>秋</td><td>1年</td></tr><tr class=\"subject\"><td>人類学１</td><td>真家　和生</td><td>Ａ</td><td>2.0</td><td>&nbsp;</td><td>2017</td><td>春</td><td>1年</td></tr><tr class=\"subject\"><td>人類学２</td><td>真家　和生</td><td>Ａ</td><td>2.0</td><td>&nbsp;</td><td>2017</td><td>秋</td><td>1年</td></tr><tr class=\"subject\"><td>生命の科学</td><td>豊田　健介</td><td>Ａ</td><td>2.0</td><td>&nbsp;</td><td>2017</td><td>春</td><td>1年</td></tr><tr class=\"field\"><td colspan=\"6\">分野：10-22-01 総合教育科目 選択必修（２系） ２系　人文・社会系</td><td colspan=\"2\">取得合計 10.0単位</td></tr><tr class=\"subject\"><td>近代思想史１</td><td>富村　圭</td><td>Ｃ</td><td>2.0</td><td>&nbsp;</td><td>2017</td><td>春</td><td>1年</td></tr><tr class=\"subject\"><td>近代思想史２</td><td>富村　圭</td><td>Ｃ</td><td>2.0</td><td>&nbsp;</td><td>2017</td><td>秋</td><td>1年</td></tr><tr class=\"subject\"><td>現代ビジネス論１</td><td>前野　隆司</td><td>Ａ</td><td>2.0</td><td>&nbsp;</td><td>2017</td><td>春</td><td>1年</td></tr><tr class=\"subject\"><td>地域文化論１</td><td>常山　菜穂子</td><td>Ｄ</td><td>2.0</td><td>&nbsp;</td><td>2017</td><td>春</td><td>1年</td></tr><tr class=\"subject\"><td>美術２</td><td>金山　弘昌</td><td>Ａ</td><td>2.0</td><td>追試</td><td>2018</td><td>秋</td><td>2年</td></tr><tr class=\"subject\"><td>法学１（憲法を含む）</td><td>河原田　有一</td><td>Ｂ</td><td>2.0</td><td>&nbsp;</td><td>2018</td><td>春</td><td>2年</td></tr><tr class=\"field\"><td colspan=\"6\">分野：20-10-01 基礎教育科目 必修（１年） 統計学１</td><td colspan=\"2\">取得合計  2.0単位</td></tr><tr class=\"subject\"><td>統計学１</td><td>河井　啓希</td><td>Ｃ</td><td>2.0</td><td>&nbsp;</td><td>2017</td><td>春</td><td>1年</td></tr><tr class=\"field\"><td colspan=\"6\">分野：20-10-02 基礎教育科目 必修（１年） 統計学２</td><td colspan=\"2\">取得合計  2.0単位</td></tr><tr class=\"subject\"><td>統計学２</td><td>河井　啓希</td><td>Ｂ</td><td>2.0</td><td>&nbsp;</td><td>2017</td><td>秋</td><td>1年</td></tr><tr class=\"field\"><td colspan=\"6\">分野：20-11-01 基礎教育科目 必修（１年　タイプＡ） 微分積分</td><td colspan=\"2\">取得合計  2.0単位</td></tr><tr class=\"subject\"><td>微分積分</td><td>池田　薫</td><td>Ｄ</td><td>2.0</td><td>&nbsp;</td><td>2017</td><td>秋</td><td>1年</td></tr><tr class=\"subject\"><td>微分積分</td><td>鈴木　正明</td><td>Ｃ</td><td>2.0</td><td>&nbsp;</td><td>2018</td><td>秋</td><td>2年</td></tr><tr class=\"field\"><td colspan=\"6\">分野：20-11-02 基礎教育科目 必修（１年　タイプＡ） 線形代数</td><td colspan=\"2\">取得合計  2.0単位</td></tr><tr class=\"subject\"><td>線形代数</td><td>部家　直樹</td><td>Ａ</td><td>2.0</td><td>&nbsp;</td><td>2017</td><td>春</td><td>1年</td></tr><tr class=\"field\"><td colspan=\"6\">分野：20-30-11 基礎教育科目 選択 微分積分入門、線形代数続論</td><td colspan=\"2\">取得合計  4.0単位</td></tr><tr class=\"subject\"><td>線形代数続論</td><td>部家　直樹</td><td>Ａ</td><td>2.0</td><td>&nbsp;</td><td>2017</td><td>秋</td><td>1年</td></tr><tr class=\"subject\"><td>微分積分入門</td><td>池田　薫</td><td>Ｃ</td><td>2.0</td><td>&nbsp;</td><td>2017</td><td>春</td><td>1年</td></tr><tr class=\"field\"><td colspan=\"6\">分野：30-10-01 外国語科目 必修 外国語１（英語）</td><td colspan=\"2\">取得合計  2.0単位</td></tr><tr class=\"subject\"><td>英語セミナー（特別上級）</td><td>松岡　和美</td><td>Ｂ</td><td>2.0</td><td>&nbsp;</td><td>2017</td><td>春</td><td>1年</td></tr><tr class=\"field\"><td colspan=\"6\">分野：30-10-03 外国語科目 必修 外国語２（フランス語）</td><td colspan=\"2\">取得合計  6.0単位</td></tr><tr class=\"subject\"><td>フランス語１ａ</td><td>鳥居　珠江</td><td>Ｂ</td><td>1.0</td><td>&nbsp;</td><td>2017</td><td>春</td><td>1年</td></tr><tr class=\"subject\"><td>フランス語１ｂ</td><td>鳥居　珠江</td><td>Ｂ</td><td>1.0</td><td>&nbsp;</td><td>2017</td><td>秋</td><td>1年</td></tr><tr class=\"subject\"><td>フランス語２ａ</td><td>鳥居　珠江</td><td>Ｃ</td><td>1.0</td><td>&nbsp;</td><td>2017</td><td>春</td><td>1年</td></tr><tr class=\"subject\"><td>フランス語２ｂ</td><td>鳥居　珠江</td><td>Ｃ</td><td>1.0</td><td>&nbsp;</td><td>2017</td><td>秋</td><td>1年</td></tr><tr class=\"subject\"><td>フランス語３ａ</td><td>ガボリオ，　</td><td>Ｓ</td><td>1.0</td><td>&nbsp;</td><td>2017</td><td>春</td><td>1年</td></tr><tr class=\"subject\"><td>フランス語３ｂ</td><td>ガボリオ，　</td><td>Ｓ</td><td>1.0</td><td>&nbsp;</td><td>2017</td><td>秋</td><td>1年</td></tr><tr class=\"field\"><td colspan=\"6\">分野：30-20-01 外国語科目 選択必修 外国語１（英語）</td><td colspan=\"2\">取得合計  4.0単位</td></tr><tr class=\"subject\"><td>英語セミナー（特別上級）</td><td>柳生　智子</td><td>Ｂ</td><td>2.0</td><td>&nbsp;</td><td>2017</td><td>秋</td><td>1年</td></tr><tr class=\"subject\"><td>英語セミナー（特別上級）</td><td>佐々木　由美</td><td>Ｂ</td><td>2.0</td><td>&nbsp;</td><td>2018</td><td>春</td><td>2年</td></tr><tr class=\"field\"><td colspan=\"6\">分野：30-20-03 外国語科目 選択必修 外国語２（フランス語）</td><td colspan=\"2\">取得合計  2.0単位</td></tr><tr class=\"subject\"><td>フランス語１１ａ</td><td>原田　操</td><td>Ｃ</td><td>1.0</td><td>&nbsp;</td><td>2018</td><td>春</td><td>2年</td></tr><tr class=\"subject\"><td>フランス語１１ｂ</td><td>原田　操</td><td>Ｃ</td><td>1.0</td><td>&nbsp;</td><td>2018</td><td>秋</td><td>2年</td></tr><tr class=\"field\"><td colspan=\"6\">分野：40-11-03 専門教育科目 必修（１年） マクロ経済学初級１</td><td colspan=\"2\">取得合計  2.0単位</td></tr><tr class=\"subject\"><td>マクロ経済学初級１</td><td>尾崎　裕之</td><td>Ｄ</td><td>2.0</td><td>&nbsp;</td><td>2017</td><td>春</td><td>1年</td></tr><tr class=\"subject\"><td>マクロ経済学初級１</td><td>藤原　一平</td><td>Ａ</td><td>2.0</td><td>&nbsp;</td><td>2018</td><td>春</td><td>2年</td></tr><tr class=\"field\"><td colspan=\"6\">分野：40-11-04 専門教育科目 必修（１年） マクロ経済学初級２</td><td colspan=\"2\">取得合計  2.0単位</td></tr><tr class=\"subject\"><td>マクロ経済学初級２</td><td>大平　哲</td><td>Ｃ</td><td>2.0</td><td>&nbsp;</td><td>2017</td><td>秋</td><td>1年</td></tr><tr class=\"field\"><td colspan=\"6\">分野：40-12-01 専門教育科目 必修（２年　タイプＡ） ミクロ経済学初級１</td><td colspan=\"2\">取得合計  2.0単位</td></tr><tr class=\"subject\"><td>ミクロ経済学初級１</td><td>栗野　盛光</td><td>Ｂ</td><td>2.0</td><td>&nbsp;</td><td>2018</td><td>春</td><td>2年</td></tr><tr class=\"field\"><td colspan=\"6\">分野：40-12-02 専門教育科目 必修（２年　タイプＡ） ミクロ経済学初級２</td><td colspan=\"2\">取得合計  2.0単位</td></tr><tr class=\"subject\"><td>ミクロ経済学初級２</td><td>玉田　康成</td><td>Ｃ</td><td>2.0</td><td>&nbsp;</td><td>2018</td><td>秋</td><td>2年</td></tr><tr class=\"field\"><td colspan=\"6\">分野：40-12-03 専門教育科目 必修（２年　タイプＡ） 経済史入門１</td><td colspan=\"2\">取得合計  2.0単位</td></tr><tr class=\"subject\"><td>経済史入門１</td><td>神田　さやこ</td><td>Ａ</td><td>2.0</td><td>&nbsp;</td><td>2018</td><td>春</td><td>2年</td></tr><tr class=\"field\"><td colspan=\"6\">分野：40-12-04 専門教育科目 必修（２年　タイプＡ） 経済史入門２</td><td colspan=\"2\">取得合計  0.0単位</td></tr><tr class=\"subject\"><td>経済史入門２</td><td>青木　健</td><td>Ｄ</td><td>2.0</td><td>追試</td><td>2018</td><td>秋</td><td>2年</td></tr><tr class=\"subject\"><td>経済史入門２</td><td>中西　聡</td><td>？</td><td>2.0</td><td>&nbsp;</td><td>2019</td><td>秋</td><td>3年</td></tr><tr class=\"field\"><td colspan=\"6\">分野：40-20-01 専門教育科目 選択必修 専門基礎科目</td><td colspan=\"2\">取得合計  8.0単位</td></tr><tr class=\"subject\"><td>経済思想の歴史１</td><td>壽里　竜</td><td>Ｂ</td><td>2.0</td><td>&nbsp;</td><td>2018</td><td>春</td><td>2年</td></tr><tr class=\"subject\"><td>経済数学１</td><td>桂田　昌紀</td><td>Ｃ</td><td>2.0</td><td>&nbsp;</td><td>2018</td><td>春</td><td>2年</td></tr><tr class=\"subject\"><td>経済数学２</td><td>桂田　昌紀</td><td>Ｂ</td><td>2.0</td><td>&nbsp;</td><td>2018</td><td>秋</td><td>2年</td></tr><tr class=\"subject\"><td>経済と環境</td><td>河端　瑞貴</td><td>Ａ</td><td>2.0</td><td>&nbsp;</td><td>2018</td><td>秋</td><td>2年</td></tr><tr class=\"subject\"><td>マルクス経済学１</td><td>駒形　哲哉</td><td>Ｄ</td><td>2.0</td><td>&nbsp;</td><td>2018</td><td>春</td><td>2年</td></tr><tr class=\"field\"><td colspan=\"6\">分野：40-21-01 専門教育科目 選択必修 専門基礎科目（教授会認定）</td><td colspan=\"2\">取得合計  2.0単位</td></tr><tr class=\"subject\"><td>社会問題１</td><td>市橋　秀夫</td><td>Ａ</td><td>2.0</td><td>&nbsp;</td><td>2018</td><td>秋</td><td>2年</td></tr><tr class=\"field\"><td colspan=\"6\">分野：40-22-04 専門教育科目 選択必修 基本科目　Ｄ（経済史）</td><td colspan=\"2\">取得合計  2.0単位</td></tr><tr class=\"subject\"><td>日本経済史ａ</td><td>中西　聡</td><td>Ｃ</td><td>2.0</td><td>&nbsp;</td><td>2019</td><td>春</td><td>3年</td></tr><tr class=\"subject\"><td>日本経済史ｂ</td><td>中西　聡</td><td>？</td><td>2.0</td><td>&nbsp;</td><td>2019</td><td>秋</td><td>3年</td></tr><tr class=\"field\"><td colspan=\"6\">分野：40-22-06 専門教育科目 選択必修 基本科目　Ｆ（制度・政策）</td><td colspan=\"2\">取得合計  2.0単位</td></tr><tr class=\"subject\"><td>財政論ａ</td><td>別所　俊一郎</td><td>Ｂ</td><td>2.0</td><td>&nbsp;</td><td>2019</td><td>春</td><td>3年</td></tr><tr class=\"subject\"><td>日本経済システム論ｂ</td><td>服部　孝洋</td><td>Ｄ</td><td>2.0</td><td>&nbsp;</td><td>2019</td><td>春</td><td>3年</td></tr><tr class=\"field\"><td colspan=\"6\">分野：40-22-08 専門教育科目 選択必修 基本科目　Ｈ（国際経済）</td><td colspan=\"2\">取得合計  2.0単位</td></tr><tr class=\"subject\"><td>国際貿易論ａ</td><td>木村　福成</td><td>Ｂ</td><td>2.0</td><td>&nbsp;</td><td>2019</td><td>春</td><td>3年</td></tr><tr class=\"field\"><td colspan=\"6\">分野：40-30-01 専門教育科目 選択 特殊科目</td><td colspan=\"2\">取得合計 12.0単位</td></tr><tr class=\"subject\"><td>確率論入門１</td><td>服部　哲弥</td><td>Ｄ</td><td>2.0</td><td>&nbsp;</td><td>2018</td><td>春</td><td>2年</td></tr><tr class=\"subject\"><td>企業金融論ａ</td><td>佐藤　祐己</td><td>Ｓ</td><td>2.0</td><td>&nbsp;</td><td>2019</td><td>春</td><td>3年</td></tr><tr class=\"subject\"><td>企業金融論ｂ</td><td>佐藤　祐己</td><td>？</td><td>2.0</td><td>&nbsp;</td><td>2019</td><td>秋</td><td>3年</td></tr><tr class=\"subject\"><td>経済政策のミクロ分析ａ</td><td>藤田　康範</td><td>Ｂ</td><td>2.0</td><td>&nbsp;</td><td>2019</td><td>春</td><td>3年</td></tr><tr class=\"subject\"><td>経済政策のミクロ分析ｂ</td><td>藤田　康範</td><td>？</td><td>2.0</td><td>&nbsp;</td><td>2019</td><td>秋</td><td>3年</td></tr><tr class=\"subject\"><td>フィンテックとソーシャル・インフラストラクチュアａ</td><td>新井　拓児</td><td>Ｓ</td><td>2.0</td><td>&nbsp;</td><td>2019</td><td>春</td><td>3年</td></tr><tr class=\"subject\"><td>フィンテックとソーシャル・インフラストラクチュアｂ</td><td>新井　拓児</td><td>？</td><td>2.0</td><td>&nbsp;</td><td>2019</td><td>秋</td><td>3年</td></tr><tr class=\"subject\"><td>フィンテックの理論と実践ａ</td><td>中妻　照雄</td><td>Ｂ</td><td>2.0</td><td>&nbsp;</td><td>2019</td><td>春</td><td>3年</td></tr><tr class=\"subject\"><td>簿記ａ</td><td>中村　文彦</td><td>Ａ</td><td>2.0</td><td>追試</td><td>2018</td><td>春</td><td>2年</td></tr><tr class=\"subject\"><td>簿記ｂ</td><td>中村　文彦</td><td>Ｂ</td><td>2.0</td><td>追試</td><td>2018</td><td>秋</td><td>2年</td></tr><tr class=\"field\"><td colspan=\"6\">分野：40-34-01 専門教育科目 選択 研究会ａ</td><td colspan=\"2\">取得合計  0.0単位</td></tr><tr class=\"subject\"><td>研究会ａ</td><td>木村　福成</td><td>？</td><td>2.0</td><td>&nbsp;</td><td>2019</td><td>春</td><td>3年</td></tr><tr class=\"field\"><td colspan=\"6\">分野：40-34-02 専門教育科目 選択 研究会ｂ</td><td colspan=\"2\">取得合計  0.0単位</td></tr><tr class=\"subject\"><td>研究会ｂ</td><td>木村　福成</td><td>？</td><td>2.0</td><td>&nbsp;</td><td>2019</td><td>秋</td><td>3年</td></tr><tr class=\"field\"><td colspan=\"6\">分野：40-39-01 専門教育科目  関連科目</td><td colspan=\"2\">取得合計  4.0単位</td></tr><tr class=\"subject\"><td>会計学ｂ</td><td>坂井　恵</td><td>？</td><td>2.0</td><td>&nbsp;</td><td>2019</td><td>秋</td><td>3年</td></tr><tr class=\"subject\"><td>政策と法１</td><td>石岡　克俊</td><td>Ａ</td><td>2.0</td><td>&nbsp;</td><td>2019</td><td>春</td><td>3年</td></tr><tr class=\"subject\"><td>政策と法２</td><td>石岡　克俊</td><td>？</td><td>2.0</td><td>&nbsp;</td><td>2019</td><td>秋</td><td>3年</td></tr><tr class=\"subject\"><td>租税法ａ</td><td>吉村　典久</td><td>Ｃ</td><td>2.0</td><td>&nbsp;</td><td>2019</td><td>春</td><td>3年</td></tr><tr class=\"subject\"><td>租税法ｂ</td><td>吉村　典久</td><td>？</td><td>2.0</td><td>&nbsp;</td><td>2019</td><td><span style=\"font-stretch: normal; line-height: normal; fo\n"
     ]
    }
   ],
   "source": [
    "html = input()"
   ]
  },
  {
   "cell_type": "code",
   "execution_count": null,
   "metadata": {
    "code_folding": [
     0
    ]
   },
   "outputs": [],
   "source": [
    "output_df_format = {'必要単位詳細': {('1. 総合教育科目', 20, 'Ⅰ系'): 6.0,\n",
    "                                                                  ('1. 総合教育科目', 20, 'Ⅱ系'): 10.0,\n",
    "                                                                  ('1. 総合教育科目', 20, 'Ⅲ系'): '',\n",
    "                                                                  ('2. 基礎教育科目', 8, '必修'): 8.0,\n",
    "                                                                  ('2. 基礎教育科目', 8, '選択'): '',\n",
    "                                                                  ('3. 外国語科目', 14, '必修'): 8.0,\n",
    "                                                                  ('3. 外国語科目', 14, '選択必修'): 6.0,\n",
    "                                                                  ('3. 外国語科目', 14, '選択'): '',\n",
    "                                                                  ('4. 専門教育科目', 68, '基礎'): 16.0,\n",
    "                                                                  ('4. 専門教育科目', 68, '基本'): 12.0,\n",
    "                                                                  ('4. 専門教育科目', 68, '特殊及び関連'): '',\n",
    "                                                                  ('5. 自主選択科目', ' ', '選択'): '',\n",
    "                                                                  ('6. 合計', 126, ' '): ''},\n",
    "                                     '自分': {('1. 総合教育科目', 20, 'Ⅰ系'): '',\n",
    "                                                  ('1. 総合教育科目', 20, 'Ⅱ系'): '',\n",
    "                                                  ('1. 総合教育科目', 20, 'Ⅲ系'): '',\n",
    "                                                  ('2. 基礎教育科目', 8, '必修'): '',\n",
    "                                                  ('2. 基礎教育科目', 8, '選択'): '',\n",
    "                                                  ('3. 外国語科目', 14, '必修'): '',\n",
    "                                                  ('3. 外国語科目', 14, '選択必修'): '',\n",
    "                                                  ('3. 外国語科目', 14, '選択'): '',\n",
    "                                                  ('4. 専門教育科目', 68, '基礎'): '',\n",
    "                                                  ('4. 専門教育科目', 68, '基本'): '',\n",
    "                                                  ('4. 専門教育科目', 68, '特殊及び関連'): '',\n",
    "                                                  ('5. 自主選択科目', ' ', '選択'): '',\n",
    "                                                  ('6. 合計', 126, ' '): 0.0}}"
   ]
  },
  {
   "cell_type": "code",
   "execution_count": null,
   "metadata": {},
   "outputs": [],
   "source": [
    "output_df_multiIndex = MultiIndex(levels=[['1. 総合教育科目', '2. 基礎教育科目', '3. 外国語科目', '4. 専門教育科目', '5. 自主選択科目', '6. 合計'], [8, 14, 20, 68, 126, ' '], [' ', 'Ⅰ系', 'Ⅱ系', 'Ⅲ系', '基本', '基礎', '必修', '特殊及び関連', '選択', '選択必修']],\n",
    "           codes=[[0, 0, 0, 1, 1, 2, 2, 2, 3, 3, 3, 4, 5], [2, 2, 2, 0, 0, 1, 1, 1, 3, 3, 3, 5, 4], [1, 2, 3, 6, 8, 6, 9, 8, 5, 4, 7, 8, 0]],\n",
    "           names=['科目', '卒業必要単位', '詳細科目'])"
   ]
  },
  {
   "cell_type": "code",
   "execution_count": null,
   "metadata": {},
   "outputs": [],
   "source": [
    "output_df = pd.DataFrame(output_df_format).reindex(output_df_multiIndex)"
   ]
  },
  {
   "cell_type": "code",
   "execution_count": null,
   "metadata": {},
   "outputs": [],
   "source": [
    "soup = BeautifulSoup(html)\n",
    "try:\n",
    "    main_table = soup.find('form').find('table', class_ = \"“main”\").find('tbody')\n",
    "    s, e = \"“\", \"”\"\n",
    "    \n",
    "except:\n",
    "    main_table = soup.find('form').find('table', class_ = 'main').find('tbody')\n",
    "    s, e = \"\", \"\""
   ]
  },
  {
   "cell_type": "code",
   "execution_count": null,
   "metadata": {
    "code_folding": []
   },
   "outputs": [],
   "source": [
    "all_data = []\n",
    "for tr in main_table.find_all('tr'):\n",
    "    type_ = tr['class'][0]\n",
    "    if type_ == '{}field{}'.format(s,e):\n",
    "        current_key = re.findall('\\d{2}-\\d{2}-\\d{2}', tr.text)[0]\n",
    "        \n",
    "    elif type_ == '{}subject{}'.format(s,e):\n",
    "        temp_info = tr.find_all('td')\n",
    "        \n",
    "        class_name = temp_info[0].text\n",
    "        prof_name = temp_info[1].text\n",
    "        evaluation = temp_info[2].text\n",
    "        n_credits = int(float(temp_info[3].text))\n",
    "        year = temp_info[5].text\n",
    "        semester =temp_info[6].text\n",
    "        grade = temp_info[7].text\n",
    "        \n",
    "        all_data.append({'分野': current_key,\n",
    "                                     '授業名': class_name,\n",
    "                                     '教授名': prof_name,\n",
    "                                     '評価': evaluation,\n",
    "                                     '単位数':n_credits,\n",
    "                                     '取得年': year,\n",
    "                                     '学期':semester,\n",
    "                                     '取得学年': grade})"
   ]
  },
  {
   "cell_type": "code",
   "execution_count": null,
   "metadata": {},
   "outputs": [],
   "source": [
    "df = pd.DataFrame(all_data, columns = ['分野','授業名','教授名','評価','単位数','取得年','学期','取得学年'])"
   ]
  },
  {
   "cell_type": "code",
   "execution_count": null,
   "metadata": {
    "code_folding": [
     0
    ]
   },
   "outputs": [],
   "source": [
    "def credits_sum(df):\n",
    "    return df.query(\"評価 in ['Ｓ', 'Ｂ', 'Ａ', 'Ｃ']\").sum().単位数"
   ]
  },
  {
   "cell_type": "code",
   "execution_count": null,
   "metadata": {
    "code_folding": [
     0
    ]
   },
   "outputs": [],
   "source": [
    "def show_overall(df):\n",
    "    print('{概要}')\n",
    "    #通算単位取得数、3学期前期取得数   \n",
    "    credits_so_far = credits_sum(df)\n",
    "    spring_semester = credits_sum(df.query('取得学年 == \"3年\"', engine='python'))\n",
    "    print('\\t通算単位取得数: {}'.format(credits_so_far))\n",
    "    print('\\t\\t3年前期取得単位数: {}'.format(spring_semester))\n",
    "    print('\\t' + '='*70)\n",
    "    \n",
    "    #3年終了時取得単位予定数\n",
    "    fall_semester = df.query('取得学年 == \"3年\"', engine='python').query('学期 == \"秋\"').sum().単位数 \n",
    "    print('\\t3年終了時取得単位予定数: {}'.format(credits_so_far + fall_semester))\n",
    "    print('\\t\\t3年後期単位取得予定数:{}'.format(fall_semester))"
   ]
  },
  {
   "cell_type": "code",
   "execution_count": null,
   "metadata": {
    "code_folding": [
     0
    ]
   },
   "outputs": [],
   "source": [
    "def pass_check(df):\n",
    "    print('{進級条件チェック}')\n",
    "    #1-1. 基礎教育科目8単位\n",
    "    basics_credits = credits_sum(df.query('分野.str.match(\"20-.*\")', engine='python').query(\"評価 in ['Ｓ', 'Ｂ', 'Ａ', 'Ｃ']\"))\n",
    "    print('\\t1-1. 基礎教育科目8単位: ', end='')\n",
    "    print('○') if basics_credits >= 8 else print('×')\n",
    "    \n",
    "    #1-2. 専門教育科目の基本科目16単位\n",
    "    specialized_credits = credits_sum(df.query('分野.str.match(\"40-1.*|40-20.*|40-21.*\")', engine='python'))\n",
    "    print('\\t1-2. 専門教育科目の基礎科目16単位: ', end='')\n",
    "    print('○') if specialized_credits >= 16 else print('×')\n",
    "        \n",
    "    #2-1. 第三学年において、履修上限の範囲内で履修した科目のうち28単位の取得\n",
    "    third_grade_credits = credits_sum(df.query('取得学年 == \"3年\"', engine='python'))\n",
    "    print('\\t2-1. 第三学年において、履修上限の範囲内で履修した科目のうち28単位の取得:', end='')\n",
    "    if third_grade_credits >= 28:\n",
    "        print('○')\n",
    "    else:\n",
    "        print('×')\n",
    "        print('\\t\\t{}単位足りていません'.format(28-third_grade_credits))  "
   ]
  },
  {
   "cell_type": "code",
   "execution_count": null,
   "metadata": {
    "code_folding": [
     0
    ]
   },
   "outputs": [],
   "source": [
    "def graduation_check(df, output_df):\n",
    "    print('{卒業条件チェック}')\n",
    "    #---------------------------総合教育科目------------------------------------------------------------------------------------#\n",
    "    general_1 = credits_sum(df.query('分野.str.match(\"10-21.*\")', engine='python'))\n",
    "    general_2 =  credits_sum(df.query('分野.str.match(\"10-22.*\")', engine='python'))\n",
    "    general_3 = credits_sum(df.query('分野.str.match(\"10-23.*\")', engine='python'))\n",
    "    general_sum = general_1 + general_2 + general_3\n",
    "    \n",
    "    print('\\t<総合教育科目>')\n",
    "    if general_1 < 6: print('\\t\\t総合教育科目Ⅰ系が{}単位足りていません'.format(6 - general_1))\n",
    "    if general_2 < 10: print('\\t\\t総合教育科目Ⅱ系が{}単位足りていません'.format(10 - general_2))\n",
    "    if general_sum < 20: print('\\t\\t総合教育科目全体が{}単位足りていません'.format(20 - general_sum))\n",
    "\n",
    "    #---------------------------基礎教育科目------------------------------------------------------------------------------------#    \n",
    "    stat_1 = credits_sum(df.query('分野 == \"20-10-01\"'))\n",
    "    stat_2 = credits_sum(df.query('分野 == \"20-10-02\"'))\n",
    "    basic_must_each = credits_sum(df.query('分野.str.match(\"20-1.*\")', engine='python').query('分野 != \"20-10-01\"').query('分野 != \"20-10-02\"'))\n",
    "    basic_opt = credits_sum(df.query('分野.str.match(\"20-3.*\")', engine='python'))\n",
    "    basic_sum = sum([stat_1,stat_2, basic_must_each, basic_opt])\n",
    "\n",
    "    print('\\t<基礎教育科目>')\n",
    "    if stat_1 < 2: print('\\t\\t統計学Ⅰが足りていません')\n",
    "    if stat_2 < 2: print('\\t\\t統計学Ⅱが足りていません')\n",
    "    if basic_must_each < 4: print('\\t\\tタイプ別の必修科目(微分積分、線形代数、日本経済概論、歴史的経済分析の視点)のいずれかが{}単位足りていません'.format(4 - basic_must_each))\n",
    "    if basic_sum < 8: print('\\t\\t基礎教育科目が{}単位足りていません'.format(8 - basic_sum))\n",
    "        \n",
    "        \n",
    "    #---------------------------外国語科目------------------------------------------------------------------------------------#\n",
    "    foreign_lang_must_1 = credits_sum(df.query('分野 == \"30-10-01\"'))\n",
    "    foreign_lang_must_2 = credits_sum(df.query('分野.str.match(\"30-10-0.*\")', engine='python').query('分野 != \"30-10-01\"'))\n",
    "        \n",
    "    foreign_lang_opt_must_1 =  credits_sum(df.query('分野 == \"30-20-01\"'))\n",
    "    foreign_lang_opt_must_2 = credits_sum(df.query('分野.str.match(\"30-2.*\")', engine='python').query('分野 != \"30-20-01\"'))\n",
    "    foreign_lang_opt_sum = sum([foreign_lang_opt_must_1, foreign_lang_opt_must_2]) \n",
    "    \n",
    "    foreign_lang_opt = credits_sum(df.query('分野.str.match(\"30-30.*\")', engine='python'))    \n",
    "    foreign_lang_sum = sum([foreign_lang_must_1,foreign_lang_must_2,foreign_lang_opt_sum, foreign_lang_opt])\n",
    "    \n",
    "    \n",
    "    print('\\t<外国語科目>')\n",
    "    if foreign_lang_must_1< 2: print('\\t\\tStudy Skillsの単位が足りていません')\n",
    "    if foreign_lang_must_2 < 6:print('\\t\\t第二外国語科目の必修単位が{}足りていません'.format(6 - foreign_lang_opt_must_2))\n",
    "        \n",
    "    if foreign_lang_opt_must_1 < 2: print('\\t\\t英語セミナーもしくは英語リーディングの単位が足りていません')\n",
    "    if foreign_lang_opt_must_2 < 2: print('\\t\\t第二外国語科目の選択必修単位が足りていません')\n",
    "    if foreign_lang_opt_sum < 6: print('\\t\\t外国語科目の選択必修が{}単位足りていません'.format(6 - foreign_lang_opt_sum)) \n",
    "        \n",
    "    if foreign_lang_sum < 14: print('\\t\\t外国語科目が{}単位足りていません'.format(14 - foreign_lang_sum))\n",
    "    \n",
    "    #---------------------------専門教育科目------------------------------------------------------------------------------------# \n",
    "                #----------------------------------------基礎科目_代入---------------------------------------------------------------------------------# \n",
    "    macro_1 = credits_sum(df.query('分野 == \"40-11-03\"'))\n",
    "    macro_2 = credits_sum(df.query('分野 == \"40-11-04\"'))\n",
    "    micro_1 = credits_sum(df.query('分野 == \"40-12-01\" or 分野 ==\"40-13-1\"'))\n",
    "    micro_2 = credits_sum(df.query('分野 == \"40-12-02\" or 分野 == \"40-13-02\"'))\n",
    "    zaishi = credits_sum(df.query('分野 == \"40-12-03\" or 分野 == \"40-12-04\" or 分野 == \"40-13-03\" or 分野 == \"40-13-04\"'))\n",
    "    specialized_opt_must = credits_sum(df.query('分野 == \"40-20-01\" or 分野 == \"40-21-01\"'))\n",
    "    \n",
    "    specialized_basic_SUM = sum([macro_1,macro_2, micro_1,micro_2, zaishi, specialized_opt_must])\n",
    "        \n",
    "                #----------------------------------------基本科目_代入---------------------------------------------------------------------------------# \n",
    "    kihon_df = df.query('分野.str.match(\"40-22.*\")', engine='python').query(\"評価 in ['Ｓ', 'Ｂ', 'Ａ', 'Ｃ']\").loc[:,['分野', '単位数']]\n",
    "    kihon_df = kihon_df.set_index('分野')\n",
    "    kihon_bools = [True if n >= 4 else False for n in kihon_df.groupby('分野').sum().単位数.values]\n",
    "    \n",
    "                #---------------------------特殊科目及び関連科目_代入-------------------------------------------------------------------------------------#\n",
    "    specialized_and_related = credits_sum(df.query('分野.str.match(\"40-3.*\")', engine='python'))\n",
    "                #---------------------------総合_代入-------------------------------------------------------------------------------------#\n",
    "    specialized_SUM = sum([specialized_basic_SUM, kihon_df.sum().単位数, specialized_and_related])\n",
    "    \n",
    "    \n",
    "    #----------------------------------------専門教育科目_出力---------------------------------------------------------------------------------# \n",
    "    print('\\t<専門教育科目>')\n",
    "    if specialized_SUM < 68:\n",
    "        print('\\t\\t[専門教育科目が{}単位足りていません]'.format(68 - specialized_SUM))\n",
    "    \n",
    "    if macro_1 < 2: print('\\t\\t\\tマクロ経済学初級Ⅰの単位が足りていません')\n",
    "    if macro_2 < 2: print('\\t\\t\\tマクロ経済学初級Ⅱの単位が足りていません')\n",
    "    if micro_1 < 2: print('\\t\\t\\tミクロ経済学初級Ⅰの単位が足りていません')\n",
    "    if micro_2 < 2: print('\\t\\t\\tミクロ経済学初級Ⅱの単位が足りていません')\n",
    "    if zaishi < 4:print('\\t\\t\\t経済史が{}単位足りていません'.format(4 - zaishi))\n",
    "        \n",
    "    if kihon_bools.count(True) < 3:\n",
    "        print('\\t\\t\\t専門教育科目の基本科目における1分野4単位以上×3分野が{}分野足りていません'.format(3 - kihon_bools.count(True)))\n",
    "\n",
    "    #---------------------------自主選択科目------------------------------------------------------------------------------------# \n",
    "    self_1 = min(3,credits_sum(df.query('分野 == \"50-30-01\" or 分野 == \"50-31-01\"')))\n",
    "    self_2 = min(2,credits_sum(df.query('分野 == \"50-32-01\" or 分野 == \"50-32-02\"')))\n",
    "    self_3 = credits_sum(df.query('分野 == \"50-50-01\"'))\n",
    "    \n",
    "    #----------------------------全体------------------------------------------------------------------------------------------------------------------#\n",
    "    print('\\t<全体>')\n",
    "    credits_so_far = credits_sum(df)\n",
    "    fall_semester = df.query('取得学年 == \"3年\"', engine='python').query('学期 == \"秋\"').sum().単位数\n",
    "    sum_ = credits_so_far + fall_semester\n",
    "    if sum_  >= 126:\n",
    "        print('\\t\\t卒業必要単位数を取得しています')\n",
    "    else:\n",
    "        print('\\t\\tこの履修予定だと卒業まで{}単位足りていません'.format(126 - sum_))\n",
    "\n",
    "        \n",
    "        \n",
    "    #------------------------------データフレームの作成-----------------------------------------------------------------------------------------------------------------#\n",
    "    output_df.loc[('1. 総合教育科目',20, 'Ⅰ系'), ['自分']] = general_1\n",
    "    output_df.loc[('1. 総合教育科目',20, 'Ⅱ系'), ['自分']] = general_2\n",
    "    output_df.loc[('1. 総合教育科目',20, 'Ⅲ系'), ['自分']] = general_3\n",
    "    \n",
    "    output_df.loc[('2. 基礎教育科目',8, '必修'), ['自分']] = sum([stat_1, stat_2, basic_must_each])\n",
    "    output_df.loc[('2. 基礎教育科目',8, '選択'), ['自分']] = basic_opt\n",
    "    \n",
    "    output_df.loc[('3. 外国語科目',14, '必修'), ['自分']] = sum([foreign_lang_must_1, foreign_lang_must_2])\n",
    "    output_df.loc[('3. 外国語科目',14, '選択必修'), ['自分']] = foreign_lang_opt_sum\n",
    "    output_df.loc[('3. 外国語科目',14, '選択'), ['自分']] = foreign_lang_opt\n",
    "    \n",
    "    output_df.loc[('4. 専門教育科目',68, '基礎'), ['自分']] = specialized_basic_SUM\n",
    "    output_df.loc[('4. 専門教育科目',68, '基本'), ['自分']] = kihon_df.sum().単位数\n",
    "    output_df.loc[('4. 専門教育科目',68, '特殊及び関連'), ['自分']] = specialized_and_related\n",
    "    output_df.loc[('5. 自主選択科目',\" \", '選択'), ['自分']]  = min(sum([self_1,self_2,self_3]),4)\n",
    "    \n",
    "    output_df.loc[('6. 合計',126, ' '), ['自分']] = output_df.自分.sum()\n",
    "    \n",
    "    display(output_df)    \n",
    "    print('\\n\\t*通算取得単位から出力してるため、3年後期の単位は未計上')"
   ]
  },
  {
   "cell_type": "code",
   "execution_count": null,
   "metadata": {},
   "outputs": [],
   "source": [
    "show_overall(df)\n",
    "pass_check(df)\n",
    "graduation_check(df, output_df)"
   ]
  },
  {
   "cell_type": "code",
   "execution_count": null,
   "metadata": {},
   "outputs": [],
   "source": []
  },
  {
   "cell_type": "code",
   "execution_count": null,
   "metadata": {},
   "outputs": [],
   "source": []
  }
 ],
 "metadata": {
  "kernelspec": {
   "display_name": "Python 3",
   "language": "python",
   "name": "python3"
  },
  "language_info": {
   "codemirror_mode": {
    "name": "ipython",
    "version": 3
   },
   "file_extension": ".py",
   "mimetype": "text/x-python",
   "name": "python",
   "nbconvert_exporter": "python",
   "pygments_lexer": "ipython3",
   "version": "3.7.1"
  }
 },
 "nbformat": 4,
 "nbformat_minor": 2
}
